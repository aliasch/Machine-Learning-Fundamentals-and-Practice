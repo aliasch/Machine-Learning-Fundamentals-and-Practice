{
 "cells": [
  {
   "cell_type": "markdown",
   "id": "10e629f2-76f1-4ef0-b95a-06f520839970",
   "metadata": {},
   "source": [
    "#### NumPy提供了大量的通用函数，既可以对标量和数组操作，也可以对两个数组进行操作"
   ]
  },
  {
   "cell_type": "code",
   "execution_count": 1,
   "id": "6710d8b0-6c60-48a2-bddf-9f4502ebaf16",
   "metadata": {},
   "outputs": [
    {
     "data": {
      "text/plain": [
       "array([[ 1,  2,  4],\n",
       "       [ 8, 16, 32]], dtype=int32)"
      ]
     },
     "execution_count": 1,
     "metadata": {},
     "output_type": "execute_result"
    }
   ],
   "source": [
    "import numpy as np\n",
    "a = np.arange(6).reshape(2, -1)\n",
    "2 ** a"
   ]
  },
  {
   "cell_type": "code",
   "execution_count": 2,
   "id": "95d64890-ef19-4bf5-8674-4b76757ab8fd",
   "metadata": {},
   "outputs": [
    {
     "data": {
      "text/plain": [
       "array([-5, -4, -3, -2, -1,  0,  1,  2,  3,  4])"
      ]
     },
     "execution_count": 2,
     "metadata": {},
     "output_type": "execute_result"
    }
   ],
   "source": [
    "# 取绝对值\n",
    "b = np.arange(-5, 5)\n",
    "b"
   ]
  },
  {
   "cell_type": "code",
   "execution_count": 3,
   "id": "574d40de-4bbe-43a8-aedf-6ab8c824c37b",
   "metadata": {},
   "outputs": [
    {
     "data": {
      "text/plain": [
       "array([5, 4, 3, 2, 1, 0, 1, 2, 3, 4])"
      ]
     },
     "execution_count": 3,
     "metadata": {},
     "output_type": "execute_result"
    }
   ],
   "source": [
    "c = np.abs(b) #也可以直接输入np.abs(b)得到输出\n",
    "c"
   ]
  },
  {
   "cell_type": "code",
   "execution_count": 4,
   "id": "94325e27-4c67-4e85-9332-98661a119981",
   "metadata": {},
   "outputs": [
    {
     "data": {
      "text/plain": [
       "array([1, 2, 0, 1, 2, 0, 1, 2, 0, 1], dtype=int32)"
      ]
     },
     "execution_count": 4,
     "metadata": {},
     "output_type": "execute_result"
    }
   ],
   "source": [
    "# 取模\n",
    "d = np.mod(b, 3)\n",
    "d"
   ]
  },
  {
   "cell_type": "code",
   "execution_count": 5,
   "id": "68e3a0d3-b62d-4567-81f7-8cb365b3a902",
   "metadata": {},
   "outputs": [
    {
     "data": {
      "text/plain": [
       "array([1, 2, 0, 1, 2, 0, 1, 2, 0, 1], dtype=int32)"
      ]
     },
     "execution_count": 5,
     "metadata": {},
     "output_type": "execute_result"
    }
   ],
   "source": [
    "# 更常用的取模操作，使用%\n",
    "e = b % 3\n",
    "e"
   ]
  },
  {
   "cell_type": "code",
   "execution_count": 6,
   "id": "d218ad91-0c82-4ab6-9ffd-34d65b6fdad9",
   "metadata": {},
   "outputs": [
    {
     "data": {
      "text/plain": [
       "(array([0.        , 0.52359878, 1.04719755, 1.57079633, 2.0943951 ,\n",
       "        2.61799388, 3.14159265]),\n",
       " array([0.00000000e+00, 5.00000000e-01, 8.66025404e-01, 1.00000000e+00,\n",
       "        8.66025404e-01, 5.00000000e-01, 1.22464680e-16]),\n",
       " array([ 1.00000000e+00,  8.66025404e-01,  5.00000000e-01,  6.12323400e-17,\n",
       "        -5.00000000e-01, -8.66025404e-01, -1.00000000e+00]),\n",
       " array([ 0.00000000e+00,  5.77350269e-01,  1.73205081e+00,  1.63312394e+16,\n",
       "        -1.73205081e+00, -5.77350269e-01, -1.22464680e-16]))"
      ]
     },
     "execution_count": 6,
     "metadata": {},
     "output_type": "execute_result"
    }
   ],
   "source": [
    "# 三角函数，输出：角度，正弦，余弦，正切\n",
    "theta = np.linspace(0, np.pi, 7)\n",
    "theta, np.sin(theta), np.cos(theta), np.tan(theta)"
   ]
  },
  {
   "cell_type": "code",
   "execution_count": 7,
   "id": "b66a2898-0e86-4e1a-b6ae-5ce6a0062ebd",
   "metadata": {},
   "outputs": [
    {
     "name": "stdout",
     "output_type": "stream",
     "text": [
      "x = [0 1 2 3 4], 2**x = [ 1.          2.71828183  7.3890561  20.08553692 54.59815003] \n",
      "e^x = [ 1.          2.71828183  7.3890561  20.08553692 54.59815003], 4^x = [  1   4  16  64 256]\n"
     ]
    }
   ],
   "source": [
    "# 指数运算\n",
    "x = np.arange(0, 5)\n",
    "print(f\"x = {x}, 2**x = {np.exp(x)} \\ne^x = {np.exp(x)}, 4^x = {np.power(4, x)}\")"
   ]
  },
  {
   "cell_type": "code",
   "execution_count": 8,
   "id": "af89274f-e0c7-493d-979b-82deb9f6581c",
   "metadata": {},
   "outputs": [
    {
     "name": "stdout",
     "output_type": "stream",
     "text": [
      "ln(x) = [0.         0.69314718 1.09861229 1.38629436] \n",
      " log2(x) = [0.        1.        1.5849625 2.       ] \n",
      " log10(x) = [0.         0.30103    0.47712125 0.60205999]\n"
     ]
    }
   ],
   "source": [
    "# 对数运算\n",
    "x = np.arange(1, 5)\n",
    "print(f\"ln(x) = {np.log(x)} \\n log2(x) = {np.log2(x)} \\n log10(x) = {np.log10(x)}\")"
   ]
  },
  {
   "cell_type": "code",
   "execution_count": null,
   "id": "96dfab1b-1be1-497c-a0f0-58e674053c98",
   "metadata": {},
   "outputs": [],
   "source": []
  }
 ],
 "metadata": {
  "kernelspec": {
   "display_name": "Python 3 (ipykernel)",
   "language": "python",
   "name": "python3"
  },
  "language_info": {
   "codemirror_mode": {
    "name": "ipython",
    "version": 3
   },
   "file_extension": ".py",
   "mimetype": "text/x-python",
   "name": "python",
   "nbconvert_exporter": "python",
   "pygments_lexer": "ipython3",
   "version": "3.10.7"
  }
 },
 "nbformat": 4,
 "nbformat_minor": 5
}
