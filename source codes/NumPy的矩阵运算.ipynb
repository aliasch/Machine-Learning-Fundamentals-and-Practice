{
 "cells": [
  {
   "cell_type": "markdown",
   "id": "bbb52500-8419-47c3-9952-1a029e539e75",
   "metadata": {},
   "source": [
    "#### 矩阵运算"
   ]
  },
  {
   "cell_type": "code",
   "execution_count": 1,
   "id": "df327d8b-f572-4c01-bd24-3a7dfb35becc",
   "metadata": {},
   "outputs": [
    {
     "name": "stdout",
     "output_type": "stream",
     "text": [
      "a = \n",
      " [[0 1 2]\n",
      " [3 4 5]] \n",
      " b = \n",
      " [[5 4 3]\n",
      " [2 1 0]]\n",
      "a + b = \n",
      " [[5 5 5]\n",
      " [5 5 5]]\n",
      "a - b = \n",
      " [[-5 -3 -1]\n",
      " [ 1  3  5]]\n"
     ]
    }
   ],
   "source": [
    "# 创建矩阵，矩阵加法+，减法-\n",
    "import numpy as np\n",
    "a = np.arange(6).reshape(2, 3)\n",
    "b = np.arange(5, -1, -1).reshape(2, 3)\n",
    "print(f\"a = \\n {a} \\n b = \\n {b}\")\n",
    "print(f\"a + b = \\n {a + b}\")\n",
    "print(f\"a - b = \\n {a - b}\")"
   ]
  },
  {
   "cell_type": "code",
   "execution_count": 2,
   "id": "3254ce59-aed7-4c9e-bf18-a18da5a70d4f",
   "metadata": {},
   "outputs": [
    {
     "name": "stdout",
     "output_type": "stream",
     "text": [
      "(c = \n",
      " [[0 1 2]\n",
      " [3 4 5]] \n",
      "d = \n",
      " [0 1 2]\n"
     ]
    }
   ],
   "source": [
    "# 矩阵对应元素相乘\n",
    "c = np.arange(6).reshape(2, 3)\n",
    "d = np.arange(3)\n",
    "print(f\"(c = \\n {c} \\nd = \\n {d}\")"
   ]
  },
  {
   "cell_type": "code",
   "execution_count": 3,
   "id": "b1a348e5-a23c-4edc-85f4-73007aa14f04",
   "metadata": {},
   "outputs": [
    {
     "data": {
      "text/plain": [
       "array([[ 0,  1,  4],\n",
       "       [ 0,  4, 10]])"
      ]
     },
     "execution_count": 3,
     "metadata": {},
     "output_type": "execute_result"
    }
   ],
   "source": [
    "c * d # 矩阵对应元素相乘，因为c和d的形状不同，这是需要用到前面小节的广播功能"
   ]
  },
  {
   "cell_type": "code",
   "execution_count": 4,
   "id": "d1f9ee3d-6cbb-4f15-ac54-7bf0cbbe8b38",
   "metadata": {},
   "outputs": [
    {
     "name": "stdout",
     "output_type": "stream",
     "text": [
      "m1 = \n",
      " [[0 1 2]\n",
      " [3 4 5]]\n",
      "m2 = \n",
      " [[0 1]\n",
      " [2 3]\n",
      " [4 5]]\n",
      "矩阵相乘方法1：m1.dot(m2) = \n",
      " [[10 13]\n",
      " [28 40]]\n",
      "矩阵相乘方法2：np.dot(m1, m2) = \n",
      " [[10 13]\n",
      " [28 40]]\n",
      "矩阵相乘方法3：np.matmul(m1, m2) = \n",
      " [[10 13]\n",
      " [28 40]]\n",
      "矩阵相乘方法4：m1 @ m2 = \n",
      " [[10 13]\n",
      " [28 40]]\n"
     ]
    }
   ],
   "source": [
    "# 矩阵相乘，有几种操作符或函数可以实现，np.dot(), np.matmul, 还有@（在Python 3.5 NumPy 1.10.0之后支持）\n",
    "m1 = np.arange(6).reshape(2, 3)\n",
    "m2 = np.arange(6).reshape(3, 2)\n",
    "print(f\"m1 = \\n {m1}\")\n",
    "print(f\"m2 = \\n {m2}\")\n",
    "print(f\"矩阵相乘方法1：m1.dot(m2) = \\n {m1.dot(m2)}\")\n",
    "print(f\"矩阵相乘方法2：np.dot(m1, m2) = \\n {np.dot(m1, m2)}\")\n",
    "print(f\"矩阵相乘方法3：np.matmul(m1, m2) = \\n {np.matmul(m1, m2)}\")\n",
    "print(f\"矩阵相乘方法4：m1 @ m2 = \\n {m1 @ m2}\")"
   ]
  },
  {
   "cell_type": "code",
   "execution_count": 5,
   "id": "0fa10445-4c55-4af4-8fea-cb866cc4a2e3",
   "metadata": {},
   "outputs": [
    {
     "name": "stdout",
     "output_type": "stream",
     "text": [
      "矩阵相乘m2 @ m1 = \n",
      " [[ 3  4  5]\n",
      " [ 9 14 19]\n",
      " [15 24 33]]\n",
      "矩阵相乘m1 @ m2 的结果和m2 @ m1 的结果，形状一般是不同的，(m1 @ m2).shape = (2, 2), (m2 @ m1).shape = (3, 3)\n"
     ]
    }
   ],
   "source": [
    "# 矩阵相乘究竟采用上述中哪一种方法，可根据自己喜好，注意不具有交换律\n",
    "print(f\"矩阵相乘m2 @ m1 = \\n {m2 @ m1}\")\n",
    "print(f\"矩阵相乘m1 @ m2 的结果和m2 @ m1 的结果，形状一般是不同的，(m1 @ m2).shape = {(m1 @ m2).shape}, (m2 @ m1).shape = {(m2 @ m1).shape}\")"
   ]
  },
  {
   "cell_type": "code",
   "execution_count": 6,
   "id": "6c4f0de6-15c3-4a24-98f1-9173cc2434ec",
   "metadata": {},
   "outputs": [
    {
     "name": "stdout",
     "output_type": "stream",
     "text": [
      "m1 = \n",
      " [[0 1 2]\n",
      " [3 4 5]]\n",
      "(m1.T = \n",
      " [[0 3]\n",
      " [1 4]\n",
      " [2 5]]\n"
     ]
    }
   ],
   "source": [
    "# 矩阵的转置\n",
    "print(f\"m1 = \\n {m1}\")\n",
    "print(f\"(m1.T = \\n {m1.T}\")"
   ]
  },
  {
   "cell_type": "code",
   "execution_count": 7,
   "id": "b2ba4a99-4533-4b63-bfbb-eb47050b9c40",
   "metadata": {},
   "outputs": [
    {
     "name": "stdout",
     "output_type": "stream",
     "text": [
      "向量a和b的内积：11, 向量a和矩阵c的点积：[ 5 11]\n"
     ]
    }
   ],
   "source": [
    "# 向量的内积，或向量与矩阵的点积，向量间的点积也可以运算\n",
    "a = np.array([1, 2])\n",
    "b = np.array([3, 4])\n",
    "c = np.array([[1, 2], [3, 4]])\n",
    "print(f\"向量a和b的内积：{np.inner(a, b)}, 向量a和矩阵c的点积：{np.inner(a, c)}\")"
   ]
  },
  {
   "cell_type": "code",
   "execution_count": 9,
   "id": "df2d4820-0a21-41fb-86d4-66e07850233d",
   "metadata": {},
   "outputs": [
    {
     "name": "stdout",
     "output_type": "stream",
     "text": [
      "b = \n",
      " [[ 5.5 -3.   0.5]\n",
      " [-1.5 -0.   0.5]\n",
      " [-0.5  1.  -0.5]]\n",
      "c = \n",
      " [[ 1.00000000e+00  0.00000000e+00 -1.11022302e-16]\n",
      " [-2.77555756e-16  1.00000000e+00 -3.33066907e-16]\n",
      " [-1.05471187e-15  0.00000000e+00  1.00000000e+00]]\n"
     ]
    }
   ],
   "source": [
    "# 矩阵的逆，需要用到线性代数包，若矩阵不可逆，则需要用到伪逆\n",
    "a = np.array([[1, 2, 3], [2, 5, 7], [3, 8, 9]])\n",
    "b = np.linalg.inv(a) # a的逆矩阵\n",
    "c = a @ b # 单位阵\n",
    "print(f\"b = \\n {b}\")\n",
    "print(f\"c = \\n {c}\")"
   ]
  },
  {
   "cell_type": "code",
   "execution_count": 10,
   "id": "e2749957-ead4-41f3-a589-21cc31e01705",
   "metadata": {},
   "outputs": [
    {
     "data": {
      "text/plain": [
       "15"
      ]
     },
     "execution_count": 10,
     "metadata": {},
     "output_type": "execute_result"
    }
   ],
   "source": [
    "# 矩阵的迹，方正的主对角线元素的和1 + 5 + 9\n",
    "np.trace(a)"
   ]
  },
  {
   "cell_type": "code",
   "execution_count": 11,
   "id": "6c3c3f1f-049a-4288-9e30-2e585db5db21",
   "metadata": {},
   "outputs": [
    {
     "data": {
      "text/plain": [
       "-1.9999999999999998"
      ]
     },
     "execution_count": 11,
     "metadata": {},
     "output_type": "execute_result"
    }
   ],
   "source": [
    "# 矩阵的行列式\n",
    "np.linalg.det(a)"
   ]
  },
  {
   "cell_type": "code",
   "execution_count": 12,
   "id": "f8cd7560-dd0b-45fd-8a69-e9df1fdd5721",
   "metadata": {},
   "outputs": [
    {
     "name": "stdout",
     "output_type": "stream",
     "text": [
      "矩阵a的特征值w = [15.63154682  0.16136309 -0.7929099 ]\n",
      "矩阵a的特征向量v = \n",
      "[[-0.23914292 -0.96420521 -0.34645664]\n",
      " [-0.56494774  0.24210526 -0.67167816]\n",
      " [-0.78971179  0.10813585  0.65484062]]\n"
     ]
    }
   ],
   "source": [
    "# 矩阵特征值和特征向量\n",
    "# w:多个特征值组成一个向量，多个特征值并没有按特定的次数排列，特征值可能包行复数，\n",
    "# v:多个特征向量组成一个矩阵，每一个特征向量都被归一化了，第i列的特征向量v[:, i]对应第i个特征值w[i]\n",
    "w, v = np.linalg.eig(a)\n",
    "print(f\"矩阵a的特征值w = {w}\")\n",
    "print(f\"矩阵a的特征向量v = \\n{v}\")"
   ]
  },
  {
   "cell_type": "code",
   "execution_count": 13,
   "id": "8126bd36-81f4-44e0-a673-6cded3ac6dc4",
   "metadata": {},
   "outputs": [
    {
     "data": {
      "text/plain": [
       "15.000000000000009"
      ]
     },
     "execution_count": 13,
     "metadata": {},
     "output_type": "execute_result"
    }
   ],
   "source": [
    "# 矩阵的迹等于矩阵所有特征值的和，所以等于上面求出的15\n",
    "np.sum(w)"
   ]
  },
  {
   "cell_type": "code",
   "execution_count": null,
   "id": "b952b87f-8032-40f4-9c75-0c5c43f6bf68",
   "metadata": {},
   "outputs": [],
   "source": []
  }
 ],
 "metadata": {
  "kernelspec": {
   "display_name": "Python 3 (ipykernel)",
   "language": "python",
   "name": "python3"
  },
  "language_info": {
   "codemirror_mode": {
    "name": "ipython",
    "version": 3
   },
   "file_extension": ".py",
   "mimetype": "text/x-python",
   "name": "python",
   "nbconvert_exporter": "python",
   "pygments_lexer": "ipython3",
   "version": "3.10.7"
  }
 },
 "nbformat": 4,
 "nbformat_minor": 5
}
