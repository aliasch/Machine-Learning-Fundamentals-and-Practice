{
 "cells": [
  {
   "cell_type": "markdown",
   "id": "0065ad50-2e82-4353-84aa-3285fb787322",
   "metadata": {},
   "source": [
    "#### 数组的聚合操作"
   ]
  },
  {
   "cell_type": "code",
   "execution_count": 2,
   "id": "4da9e145-e9d3-4ab1-ac0b-3c068cfb8765",
   "metadata": {},
   "outputs": [
    {
     "data": {
      "text/plain": [
       "array([37, 43, 12,  8,  9, 11,  5, 15,  0, 16])"
      ]
     },
     "execution_count": 2,
     "metadata": {},
     "output_type": "execute_result"
    }
   ],
   "source": [
    "import numpy as np\n",
    "np.random.seed(1)\n",
    "a = np.random.randint(0, 50, 10) # 产生10个0到50之间的随机整数，构成一维数组\n",
    "a"
   ]
  },
  {
   "cell_type": "code",
   "execution_count": 4,
   "id": "7927b690-f23a-452a-9c07-c78887e367ae",
   "metadata": {},
   "outputs": [
    {
     "name": "stdout",
     "output_type": "stream",
     "text": [
      "max_a = 43, min_a = 0, mean_a = 15.6, sum_a = 156\n"
     ]
    }
   ],
   "source": [
    "# 求a的最大值，最小值，平均值，以及对a的元素求和\n",
    "print(f\"max_a = {np.max(a)}, min_a = {np.min(a)}, mean_a = {np.mean(a)}, sum_a = {np.sum(a)}\")"
   ]
  },
  {
   "cell_type": "code",
   "execution_count": 5,
   "id": "e046ef51-bae9-48d0-804f-8dfdad2ba173",
   "metadata": {},
   "outputs": [
    {
     "data": {
      "text/plain": [
       "(13.03993865016243, 170.04)"
      ]
     },
     "execution_count": 5,
     "metadata": {},
     "output_type": "execute_result"
    }
   ],
   "source": [
    "# 求a的标准差和方差\n",
    "np.std(a), np.var(a)"
   ]
  },
  {
   "cell_type": "code",
   "execution_count": 6,
   "id": "60fa6b4a-c1e5-4334-9ae6-86c9fc3b000b",
   "metadata": {},
   "outputs": [],
   "source": [
    "# 找出a中最大值和最小值的下标（索引）"
   ]
  },
  {
   "cell_type": "code",
   "execution_count": 7,
   "id": "d2813063-48a7-4b4b-8a95-1e26732e5bbb",
   "metadata": {},
   "outputs": [
    {
     "data": {
      "text/plain": [
       "(1, 8)"
      ]
     },
     "execution_count": 7,
     "metadata": {},
     "output_type": "execute_result"
    }
   ],
   "source": [
    "np.argmax(a), np.argmin(a)"
   ]
  },
  {
   "cell_type": "code",
   "execution_count": 8,
   "id": "d6159222-4022-45d0-829d-c7a8b2f6cddc",
   "metadata": {},
   "outputs": [
    {
     "data": {
      "text/plain": [
       "(11.5, 8.25)"
      ]
     },
     "execution_count": 8,
     "metadata": {},
     "output_type": "execute_result"
    }
   ],
   "source": [
    "# 计算数组a的中位数和分位数q，至少有百分之q的元素小于或等于计算得到的值\n",
    "np.median(a), np.percentile(a, 25)"
   ]
  },
  {
   "cell_type": "code",
   "execution_count": 9,
   "id": "260d49ff-d662-477e-8cea-fb2ff4793d5c",
   "metadata": {},
   "outputs": [
    {
     "data": {
      "text/plain": [
       "24"
      ]
     },
     "execution_count": 9,
     "metadata": {},
     "output_type": "execute_result"
    }
   ],
   "source": [
    "# 求b中各个元素的积\n",
    "b = np.array([1, 2, 3, 4])\n",
    "np.prod(b)"
   ]
  },
  {
   "cell_type": "code",
   "execution_count": 10,
   "id": "5eff9d8b-6f3f-4346-bef9-701fcb71d633",
   "metadata": {},
   "outputs": [],
   "source": [
    "# 对于多元数组，在进行聚合操作时，需要指定操作沿着哪一个轴axis\n",
    "c = np.arange(12)\n",
    "np.random.seed(1) #固定种子，方便读者重现，读者可修改种子进行测试\n",
    "np.random.shuffle(c) # 就地打乱数组的顺序，没返回值，这个在机器学习样本的训练过程中，有时候会用到\n",
    "c = np.reshape(c, [3, 4])"
   ]
  },
  {
   "cell_type": "code",
   "execution_count": 11,
   "id": "1a1a0503-ea39-445f-b312-0bad700cbeb5",
   "metadata": {},
   "outputs": [
    {
     "data": {
      "text/plain": [
       "(array([11,  9,  8, 10]), array([2, 2, 2, 0], dtype=int64))"
      ]
     },
     "execution_count": 11,
     "metadata": {},
     "output_type": "execute_result"
    }
   ],
   "source": [
    "# 找出行的方向的最大值max，行最大值的下标argmax，机器学习的多元分类问题中，经常使用到\n",
    "np.max(c, axis=0), np.argmax(c, axis=0)"
   ]
  },
  {
   "cell_type": "code",
   "execution_count": 12,
   "id": "f2010c26-2b10-430a-ace7-c3de197cdbba",
   "metadata": {},
   "outputs": [
    {
     "data": {
      "text/plain": [
       "(array([2, 0, 5]), array([0, 2, 3], dtype=int64))"
      ]
     },
     "execution_count": 12,
     "metadata": {},
     "output_type": "execute_result"
    }
   ],
   "source": [
    "# 找出列方向的最小值，列最小值的下标\n",
    "np.min(c, axis=1), np.argmin(c, axis=1)"
   ]
  },
  {
   "cell_type": "code",
   "execution_count": 13,
   "id": "6ff66742-3264-4252-86d0-80cfe8658946",
   "metadata": {},
   "outputs": [
    {
     "data": {
      "text/plain": [
       "array([19, 14, 33])"
      ]
     },
     "execution_count": 13,
     "metadata": {},
     "output_type": "execute_result"
    }
   ],
   "source": [
    "# 求出c沿着列的方向的和\n",
    "np.sum(c, axis=1)"
   ]
  },
  {
   "cell_type": "code",
   "execution_count": null,
   "id": "dbcbf546-8bc8-481e-9929-81e1e10c3c49",
   "metadata": {},
   "outputs": [],
   "source": []
  }
 ],
 "metadata": {
  "kernelspec": {
   "display_name": "Python 3 (ipykernel)",
   "language": "python",
   "name": "python3"
  },
  "language_info": {
   "codemirror_mode": {
    "name": "ipython",
    "version": 3
   },
   "file_extension": ".py",
   "mimetype": "text/x-python",
   "name": "python",
   "nbconvert_exporter": "python",
   "pygments_lexer": "ipython3",
   "version": "3.10.7"
  }
 },
 "nbformat": 4,
 "nbformat_minor": 5
}
