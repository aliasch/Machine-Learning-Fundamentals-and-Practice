{
 "cells": [
  {
   "cell_type": "markdown",
   "id": "97b8cc9f-74ac-42b6-8cdf-52bda8d33894",
   "metadata": {},
   "source": [
    "NumPy数组的合并"
   ]
  },
  {
   "cell_type": "code",
   "execution_count": 1,
   "id": "34cdb985-1aca-4009-b873-15a3c45d2f03",
   "metadata": {},
   "outputs": [
    {
     "data": {
      "text/plain": [
       "(array([0, 1, 2, 3, 4, 5]), array([ 6,  7,  8,  9, 10, 11]))"
      ]
     },
     "execution_count": 1,
     "metadata": {},
     "output_type": "execute_result"
    }
   ],
   "source": [
    "import numpy as np\n",
    "a = np.arange(0, 6)\n",
    "b = np.arange(6, 12)\n",
    "a, b"
   ]
  },
  {
   "cell_type": "code",
   "execution_count": 2,
   "id": "8c3b06c9-2525-4f6c-9a75-8098acccd9d8",
   "metadata": {},
   "outputs": [
    {
     "data": {
      "text/plain": [
       "array([ 0,  1,  2,  3,  4,  5,  6,  7,  8,  9, 10, 11])"
      ]
     },
     "execution_count": 2,
     "metadata": {},
     "output_type": "execute_result"
    }
   ],
   "source": [
    "# concatenate()方法合并或连接两个一维数组\n",
    "c = np.concatenate([a, b])\n",
    "c"
   ]
  },
  {
   "cell_type": "code",
   "execution_count": 3,
   "id": "7a415b9e-0004-42fc-a424-cbbe41315801",
   "metadata": {},
   "outputs": [
    {
     "data": {
      "text/plain": [
       "array([ 0,  1,  2,  3,  4,  5,  6,  7,  8,  9, 10, 11])"
      ]
     },
     "execution_count": 3,
     "metadata": {},
     "output_type": "execute_result"
    }
   ],
   "source": [
    "# concatenate()方法合并或连接两个数组，具体指出沿着哪一个轴进行合并\n",
    "# 本例是一维数组，只有axis=0这一个维度\n",
    "d = np.concatenate([a, b], axis=0)\n",
    "d"
   ]
  },
  {
   "cell_type": "code",
   "execution_count": 4,
   "id": "2b5f1b01-b6e7-4e3e-9177-82d31c5f83b8",
   "metadata": {},
   "outputs": [
    {
     "data": {
      "text/plain": [
       "(array([[0, 1, 2],\n",
       "        [3, 4, 5]]),\n",
       " array([[ 6,  7,  8],\n",
       "        [ 9, 10, 11]]))"
      ]
     },
     "execution_count": 4,
     "metadata": {},
     "output_type": "execute_result"
    }
   ],
   "source": [
    "# 利用a和b创建两个二维数组aa和bb\n",
    "aa = a.reshape(2, -1)\n",
    "bb = b.reshape(2, -1)\n",
    "aa, bb"
   ]
  },
  {
   "cell_type": "code",
   "execution_count": 5,
   "id": "17d033ee-6fdf-4b73-b5e0-6a8c8c982773",
   "metadata": {},
   "outputs": [
    {
     "data": {
      "text/plain": [
       "array([[ 0,  1,  2],\n",
       "       [ 3,  4,  5],\n",
       "       [ 6,  7,  8],\n",
       "       [ 9, 10, 11]])"
      ]
     },
     "execution_count": 5,
     "metadata": {},
     "output_type": "execute_result"
    }
   ],
   "source": [
    "# 将aa和bb沿着axis=0（二维数组的行方向，或者理解为多维数组最大的维度，即该方向包含的元素数量最多）\n",
    "# 要求在另一个维度（列）axis=1的方向上元素的个数必须是一样的\n",
    "cc = np.concatenate([aa, bb], axis=0)\n",
    "cc"
   ]
  },
  {
   "cell_type": "code",
   "execution_count": 6,
   "id": "5475d093-31b8-45d1-a494-8a731948297a",
   "metadata": {},
   "outputs": [
    {
     "data": {
      "text/plain": [
       "array([[ 0,  1,  2,  6,  7,  8],\n",
       "       [ 3,  4,  5,  9, 10, 11]])"
      ]
     },
     "execution_count": 6,
     "metadata": {},
     "output_type": "execute_result"
    }
   ],
   "source": [
    "# 将aa和bb沿着axis=1（二维数组的列方向，或者理解为多维数组的次大的维度）\n",
    "# 要求沿着axis=0的方向上元素的个数必须是一样的\n",
    "dd = np.concatenate([aa, bb], axis=1)\n",
    "dd"
   ]
  },
  {
   "cell_type": "code",
   "execution_count": 7,
   "id": "580c1042-b13c-4959-be03-baaf75f01e18",
   "metadata": {},
   "outputs": [
    {
     "data": {
      "text/plain": [
       "array([[ 0,  1,  2],\n",
       "       [ 3,  4,  5],\n",
       "       [ 6,  7,  8],\n",
       "       [ 9, 10, 11],\n",
       "       [ 0,  1,  2],\n",
       "       [ 3,  4,  5],\n",
       "       [ 6,  7,  8],\n",
       "       [ 9, 10, 11]])"
      ]
     },
     "execution_count": 7,
     "metadata": {},
     "output_type": "execute_result"
    }
   ],
   "source": [
    "# concatenate()方向也可以一次合并多个数组，只要其他维度符合规则即可\n",
    "ee = np.concatenate([aa, bb, cc])\n",
    "ee"
   ]
  },
  {
   "cell_type": "code",
   "execution_count": 8,
   "id": "8b9e5412-a97f-4a37-a9c7-c06cb8ca16ce",
   "metadata": {},
   "outputs": [],
   "source": [
    "x = np.array([[0, 1, 2]]) # 1x3\n",
    "y = np.array([[1, 1, 1], [2, 2, 2]]) # 2x3\n",
    "z = np.array([[3],[3]]) # 2x1"
   ]
  },
  {
   "cell_type": "code",
   "execution_count": 9,
   "id": "5b5dc65b-b7c5-493a-98cb-92eb28bc0c9b",
   "metadata": {},
   "outputs": [
    {
     "data": {
      "text/plain": [
       "array([[0, 1, 2],\n",
       "       [1, 1, 1],\n",
       "       [2, 2, 2]])"
      ]
     },
     "execution_count": 9,
     "metadata": {},
     "output_type": "execute_result"
    }
   ],
   "source": [
    "u = np.vstack([x, y]) #沿着垂直方向合并，要求垂直方向的元素个数相同，1x3与2x3满足\n",
    "u # 效果跟沿着axis=0方向拼接相同"
   ]
  },
  {
   "cell_type": "code",
   "execution_count": 10,
   "id": "e3e1a3a8-f515-4cb3-a198-243d29152d8d",
   "metadata": {},
   "outputs": [
    {
     "data": {
      "text/plain": [
       "array([[0, 1, 2],\n",
       "       [1, 1, 1],\n",
       "       [2, 2, 2]])"
      ]
     },
     "execution_count": 10,
     "metadata": {},
     "output_type": "execute_result"
    }
   ],
   "source": [
    "uu = np.concatenate([x, y], axis=0)\n",
    "uu"
   ]
  },
  {
   "cell_type": "code",
   "execution_count": 11,
   "id": "6b984f65-5ed1-438c-b85f-db519d001965",
   "metadata": {},
   "outputs": [
    {
     "data": {
      "text/plain": [
       "array([[1, 1, 1, 3],\n",
       "       [2, 2, 2, 3]])"
      ]
     },
     "execution_count": 11,
     "metadata": {},
     "output_type": "execute_result"
    }
   ],
   "source": [
    "v = np.hstack([y, z]) # 沿着水平方向合并，要求水平方向的元素个数相同，2x3与2x1满足\n",
    "v # 效果跟沿着axis=1方向拼接相同"
   ]
  },
  {
   "cell_type": "code",
   "execution_count": 12,
   "id": "aaed3ca3-9ced-4494-b23f-b22471544c97",
   "metadata": {},
   "outputs": [
    {
     "data": {
      "text/plain": [
       "array([[1, 1, 1, 3],\n",
       "       [2, 2, 2, 3]])"
      ]
     },
     "execution_count": 12,
     "metadata": {},
     "output_type": "execute_result"
    }
   ],
   "source": [
    "vv = np.concatenate([y, z], axis=1)\n",
    "vv"
   ]
  },
  {
   "cell_type": "code",
   "execution_count": 13,
   "id": "2c3022a5-5152-451a-8325-c53c9f191aa4",
   "metadata": {},
   "outputs": [
    {
     "data": {
      "text/plain": [
       "(array([[[ 0,  1,  2,  3,  4],\n",
       "         [ 5,  6,  7,  8,  9],\n",
       "         [10, 11, 12, 13, 14]],\n",
       " \n",
       "        [[15, 16, 17, 18, 19],\n",
       "         [20, 21, 22, 23, 24],\n",
       "         [25, 26, 27, 28, 29]]]),\n",
       " array([[[29, 28, 27, 26, 25],\n",
       "         [24, 23, 22, 21, 20],\n",
       "         [19, 18, 17, 16, 15]],\n",
       " \n",
       "        [[14, 13, 12, 11, 10],\n",
       "         [ 9,  8,  7,  6,  5],\n",
       "         [ 4,  3,  2,  1,  0]]]))"
      ]
     },
     "execution_count": 13,
     "metadata": {},
     "output_type": "execute_result"
    }
   ],
   "source": [
    "# 除此之外，还有np.dstack()沿着第三个维度进行拼接数组\n",
    "a = np.arange(30).reshape(2, 3, 5)\n",
    "b = np.arange(29, -1, -1).reshape(2, 3, 5)\n",
    "a, b"
   ]
  },
  {
   "cell_type": "code",
   "execution_count": 14,
   "id": "2aeaab5d-d833-4813-8e82-dc911bbd0a76",
   "metadata": {},
   "outputs": [
    {
     "data": {
      "text/plain": [
       "array([[[ 0,  1,  2,  3,  4, 29, 28, 27, 26, 25],\n",
       "        [ 5,  6,  7,  8,  9, 24, 23, 22, 21, 20],\n",
       "        [10, 11, 12, 13, 14, 19, 18, 17, 16, 15]],\n",
       "\n",
       "       [[15, 16, 17, 18, 19, 14, 13, 12, 11, 10],\n",
       "        [20, 21, 22, 23, 24,  9,  8,  7,  6,  5],\n",
       "        [25, 26, 27, 28, 29,  4,  3,  2,  1,  0]]])"
      ]
     },
     "execution_count": 14,
     "metadata": {},
     "output_type": "execute_result"
    }
   ],
   "source": [
    "c = np.dstack([a, b])\n",
    "c"
   ]
  },
  {
   "cell_type": "code",
   "execution_count": 15,
   "id": "cb377f11-9edd-4688-83b2-2bb9aa91753b",
   "metadata": {},
   "outputs": [
    {
     "data": {
      "text/plain": [
       "(array([[0, 1, 2, 3],\n",
       "        [4, 5, 6, 7]]),\n",
       " array([[1., 1., 1.],\n",
       "        [1., 1., 1.]]),\n",
       " array([[0., 0., 0., 0.],\n",
       "        [0., 0., 0., 0.],\n",
       "        [0., 0., 0., 0.]]))"
      ]
     },
     "execution_count": 15,
     "metadata": {},
     "output_type": "execute_result"
    }
   ],
   "source": [
    "# 创建A, B, C三个矩阵\n",
    "A = np.arange(0, 8).reshape(2, 4)\n",
    "B = np.ones([2, 3])\n",
    "C = np.zeros([3, 4])\n",
    "A, B, C"
   ]
  },
  {
   "cell_type": "code",
   "execution_count": 16,
   "id": "e092e580-8412-463e-bf9c-49adb9c64947",
   "metadata": {},
   "outputs": [
    {
     "data": {
      "text/plain": [
       "array([[0., 1., 2., 3., 1., 1., 1.],\n",
       "       [4., 5., 6., 7., 1., 1., 1.]])"
      ]
     },
     "execution_count": 16,
     "metadata": {},
     "output_type": "execute_result"
    }
   ],
   "source": [
    "# 拼接链接两个矩阵，要求两个矩阵A, B的行数相等\n",
    "D = np.c_[A, B]\n",
    "D"
   ]
  },
  {
   "cell_type": "code",
   "execution_count": 17,
   "id": "e3d0bf03-0673-489b-857f-e1092a505504",
   "metadata": {},
   "outputs": [
    {
     "data": {
      "text/plain": [
       "array([[0., 1., 2., 3.],\n",
       "       [4., 5., 6., 7.],\n",
       "       [0., 0., 0., 0.],\n",
       "       [0., 0., 0., 0.],\n",
       "       [0., 0., 0., 0.]])"
      ]
     },
     "execution_count": 17,
     "metadata": {},
     "output_type": "execute_result"
    }
   ],
   "source": [
    "# 按行连接两个矩阵，要求两个矩阵A, C的列相等\n",
    "E = np.r_[A, C]\n",
    "E"
   ]
  },
  {
   "cell_type": "code",
   "execution_count": null,
   "id": "4193536b-6bcf-4905-b9d5-d3f5fc31735a",
   "metadata": {},
   "outputs": [],
   "source": []
  }
 ],
 "metadata": {
  "kernelspec": {
   "display_name": "Python 3 (ipykernel)",
   "language": "python",
   "name": "python3"
  },
  "language_info": {
   "codemirror_mode": {
    "name": "ipython",
    "version": 3
   },
   "file_extension": ".py",
   "mimetype": "text/x-python",
   "name": "python",
   "nbconvert_exporter": "python",
   "pygments_lexer": "ipython3",
   "version": "3.10.7"
  }
 },
 "nbformat": 4,
 "nbformat_minor": 5
}
