{
 "cells": [
  {
   "cell_type": "markdown",
   "id": "4e33004e-8e7c-4775-9895-b2292b479f06",
   "metadata": {
    "tags": []
   },
   "source": [
    "#### 数组的变形操作"
   ]
  },
  {
   "cell_type": "code",
   "execution_count": 1,
   "id": "e5a2ba48-7611-43b2-8cb9-d39657a8521f",
   "metadata": {},
   "outputs": [
    {
     "data": {
      "text/plain": [
       "array([ 0,  1,  2,  3,  4,  5,  6,  7,  8,  9, 10, 11])"
      ]
     },
     "execution_count": 1,
     "metadata": {},
     "output_type": "execute_result"
    }
   ],
   "source": [
    "import numpy as np\n",
    "a = np.arange(0, 12) # 创建一个包含12个元素的一维数组\n",
    "a"
   ]
  },
  {
   "cell_type": "code",
   "execution_count": 2,
   "id": "53d17ec8-a46d-4fda-a33a-e9a33d1889df",
   "metadata": {},
   "outputs": [
    {
     "data": {
      "text/plain": [
       "array([[ 0,  1,  2,  3,  4,  5],\n",
       "       [ 6,  7,  8,  9, 10, 11]])"
      ]
     },
     "execution_count": 2,
     "metadata": {},
     "output_type": "execute_result"
    }
   ],
   "source": [
    "b = a.reshape(2, 6)\n",
    "b"
   ]
  },
  {
   "cell_type": "code",
   "execution_count": 3,
   "id": "5318573b-a317-4a75-bc9e-3acf95962117",
   "metadata": {},
   "outputs": [
    {
     "data": {
      "text/plain": [
       "array([  0,   1,   2,   3,   4,   5,   6, 100,   8,   9,  10,  11])"
      ]
     },
     "execution_count": 3,
     "metadata": {},
     "output_type": "execute_result"
    }
   ],
   "source": [
    "b[1, 1] = 100 # 修改b的元素b[1, 1]为100\n",
    "# 查看数组a的数据，发现a[7]也变成100了，可见b只是a的视图，而不是独立的副本\n",
    "a"
   ]
  },
  {
   "cell_type": "code",
   "execution_count": 4,
   "id": "ef53c1ed-e873-4084-962f-73999a7808fa",
   "metadata": {},
   "outputs": [
    {
     "data": {
      "text/plain": [
       "array([[  0,   1,   2,   3],\n",
       "       [  4,   5,   6, 100],\n",
       "       [  8,   9,  10,  11]])"
      ]
     },
     "execution_count": 4,
     "metadata": {},
     "output_type": "execute_result"
    }
   ],
   "source": [
    "# 如果只要求将a表示为一个3行的二维数组，那么另外一个维度，可以由NumPy自动计算得到，只需输入-1\n",
    "# 要求数组a的总长度可以被转换后得到的数组c的行数3整除，这时，得到一个3x4的数组\n",
    "c = a.reshape(3, -1)\n",
    "c"
   ]
  },
  {
   "cell_type": "code",
   "execution_count": 5,
   "id": "5c02f20e-e4c8-4276-9f00-737a0ed7ab2d",
   "metadata": {},
   "outputs": [
    {
     "data": {
      "text/plain": [
       "array([[0, 1, 2, 3, 4, 5]])"
      ]
     },
     "execution_count": 5,
     "metadata": {},
     "output_type": "execute_result"
    }
   ],
   "source": [
    "# 另一种常见的变形是将一个一维数组转变为二维数组\n",
    "# 只需在所需增加的纬度上，添加关键字np.newaxis，这是该维度上元素的个数为1，该方法生成的新数组也是原书组的视图\n",
    "a = np.arange(0, 6)\n",
    "b = a[np.newaxis, :] # b是a在行（第0个维度）的位置上添加一个坐标，变成1x6的矩阵\n",
    "b"
   ]
  },
  {
   "cell_type": "code",
   "execution_count": 6,
   "id": "1fbcd91a-bb4e-461e-91f0-62f3cc70c546",
   "metadata": {},
   "outputs": [
    {
     "data": {
      "text/plain": [
       "array([[  0],\n",
       "       [  1],\n",
       "       [  2],\n",
       "       [100],\n",
       "       [  4],\n",
       "       [  5]])"
      ]
     },
     "execution_count": 6,
     "metadata": {},
     "output_type": "execute_result"
    }
   ],
   "source": [
    "# 将a转变为6行1列的数据，并将其第3行0列的元素修改为100\n",
    "c = a[:, np.newaxis]\n",
    "c[3, 0] = 100\n",
    "c"
   ]
  },
  {
   "cell_type": "code",
   "execution_count": 7,
   "id": "52e92ab5-5502-438a-963a-091f25e029fe",
   "metadata": {},
   "outputs": [
    {
     "data": {
      "text/plain": [
       "array([[0, 1, 2, 3, 4],\n",
       "       [5, 6, 7, 8, 9]])"
      ]
     },
     "execution_count": 7,
     "metadata": {},
     "output_type": "execute_result"
    }
   ],
   "source": [
    "# 将二维数组转变为一维数组，可用flatten()方法\n",
    "a = np.arange(0, 10).reshape(2, 5)\n",
    "a"
   ]
  },
  {
   "cell_type": "code",
   "execution_count": 8,
   "id": "959839a1-8c3d-4cfb-8879-bfb350cb268b",
   "metadata": {},
   "outputs": [
    {
     "data": {
      "text/plain": [
       "array([0, 1, 2, 3, 4, 5, 6, 7, 8, 9])"
      ]
     },
     "execution_count": 8,
     "metadata": {},
     "output_type": "execute_result"
    }
   ],
   "source": [
    "b = a.flatten()\n",
    "b"
   ]
  },
  {
   "cell_type": "code",
   "execution_count": 9,
   "id": "1e25bfd2-29d3-4afe-837d-88a0ef507d00",
   "metadata": {},
   "outputs": [
    {
     "data": {
      "text/plain": [
       "array([0, 1, 2, 3, 4, 5, 6, 7, 8, 9])"
      ]
     },
     "execution_count": 9,
     "metadata": {},
     "output_type": "execute_result"
    }
   ],
   "source": [
    "# 如果二维数组中有一个维度为1，那么使用squeeze()方法也可以\n",
    "a = np.arange(0, 10).reshape(-1, 1)\n",
    "b = a.squeeze()\n",
    "b"
   ]
  },
  {
   "cell_type": "code",
   "execution_count": 10,
   "id": "c9b4209a-6d79-4f82-a5e1-ef3fb3d5491c",
   "metadata": {},
   "outputs": [
    {
     "data": {
      "text/plain": [
       "array([[[ 0,  1,  2,  3,  4],\n",
       "        [ 5,  6,  7,  8,  9],\n",
       "        [10, 11, 12, 13, 14]],\n",
       "\n",
       "       [[15, 16, 17, 18, 19],\n",
       "        [20, 21, 22, 23, 24],\n",
       "        [25, 26, 27, 28, 29]]])"
      ]
     },
     "execution_count": 10,
     "metadata": {},
     "output_type": "execute_result"
    }
   ],
   "source": [
    "# 事实上，对于一维数组和多维数组的转换也是同样成立的\n",
    "a = np.arange(0, 30).reshape(2, 3, 5)\n",
    "a # a是一个3维的张量，这在图像处理中，彩色图像有3种颜色通道会使用得到"
   ]
  },
  {
   "cell_type": "code",
   "execution_count": 11,
   "id": "7fb46c24-508a-452d-8fda-e7ce999106fa",
   "metadata": {},
   "outputs": [
    {
     "data": {
      "text/plain": [
       "array([ 0,  1,  2,  3,  4,  5,  6,  7,  8,  9, 10, 11, 12, 13, 14, 15, 16,\n",
       "       17, 18, 19, 20, 21, 22, 23, 24, 25, 26, 27, 28, 29])"
      ]
     },
     "execution_count": 11,
     "metadata": {},
     "output_type": "execute_result"
    }
   ],
   "source": [
    "b = a.flatten() # 将3维张量转化为一维数组（向量）\n",
    "b"
   ]
  },
  {
   "cell_type": "code",
   "execution_count": null,
   "id": "c43767e0-1387-45f7-8fbf-635ade23a426",
   "metadata": {},
   "outputs": [],
   "source": []
  }
 ],
 "metadata": {
  "kernelspec": {
   "display_name": "Python 3 (ipykernel)",
   "language": "python",
   "name": "python3"
  },
  "language_info": {
   "codemirror_mode": {
    "name": "ipython",
    "version": 3
   },
   "file_extension": ".py",
   "mimetype": "text/x-python",
   "name": "python",
   "nbconvert_exporter": "python",
   "pygments_lexer": "ipython3",
   "version": "3.10.7"
  }
 },
 "nbformat": 4,
 "nbformat_minor": 5
}
