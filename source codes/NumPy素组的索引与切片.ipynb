{
 "cells": [
  {
   "cell_type": "markdown",
   "id": "a7ea8b7a-fe70-4f31-ad6c-2f9b2cd52129",
   "metadata": {},
   "source": [
    "数组索引，Numpy数组的单个元素引用跟Python列表的单个元素引用一样"
   ]
  },
  {
   "cell_type": "code",
   "execution_count": 1,
   "id": "40b87314-cdab-4cf1-843d-b9b3d6513b9c",
   "metadata": {},
   "outputs": [
    {
     "data": {
      "text/plain": [
       "1"
      ]
     },
     "execution_count": 1,
     "metadata": {},
     "output_type": "execute_result"
    }
   ],
   "source": [
    "# 一维数组的元素引用\n",
    "import numpy as np\n",
    "a = np.array([0, 1, 2, 3, 4])\n",
    "a[1]"
   ]
  },
  {
   "cell_type": "code",
   "execution_count": 2,
   "id": "00091dfd-d6e8-4a34-8e4f-728dc015f376",
   "metadata": {},
   "outputs": [
    {
     "data": {
      "text/plain": [
       "1"
      ]
     },
     "execution_count": 2,
     "metadata": {},
     "output_type": "execute_result"
    }
   ],
   "source": [
    "# 二维数组的元素引用，可以用a[i][j],也可以用a[i, j]\n",
    "b = np.array([[0, 1, 2], [3, 4, 5]])\n",
    "b[0][1]"
   ]
  },
  {
   "cell_type": "code",
   "execution_count": 3,
   "id": "a15129c1-1fd7-405c-8ca8-bf5a6a257903",
   "metadata": {},
   "outputs": [
    {
     "data": {
      "text/plain": [
       "5"
      ]
     },
     "execution_count": 3,
     "metadata": {},
     "output_type": "execute_result"
    }
   ],
   "source": [
    "b[1, 2]"
   ]
  },
  {
   "cell_type": "code",
   "execution_count": 4,
   "id": "2a5e95e8-12cf-4589-b7f7-a4bf7d93380c",
   "metadata": {},
   "outputs": [
    {
     "data": {
      "text/plain": [
       "array([0, 1, 2, 3, 4, 5, 6, 7, 8, 9])"
      ]
     },
     "execution_count": 4,
     "metadata": {},
     "output_type": "execute_result"
    }
   ],
   "source": [
    "a = np.arange(10)\n",
    "a"
   ]
  },
  {
   "cell_type": "code",
   "execution_count": 5,
   "id": "d92cb532-1c8c-4fd5-ba47-26c5efa22ed3",
   "metadata": {},
   "outputs": [
    {
     "data": {
      "text/plain": [
       "array([0, 1, 2, 3, 4])"
      ]
     },
     "execution_count": 5,
     "metadata": {},
     "output_type": "execute_result"
    }
   ],
   "source": [
    "# 取出a的前5个元素\n",
    "a[:5]"
   ]
  },
  {
   "cell_type": "code",
   "execution_count": 6,
   "id": "79bc2d4f-0f09-405f-8529-effe86a10353",
   "metadata": {},
   "outputs": [
    {
     "data": {
      "text/plain": [
       "array([2, 3, 4])"
      ]
     },
     "execution_count": 6,
     "metadata": {},
     "output_type": "execute_result"
    }
   ],
   "source": [
    "# 取出a的2至4个元素\n",
    "a[2:5]"
   ]
  },
  {
   "cell_type": "code",
   "execution_count": 7,
   "id": "9c183ac4-e36e-4375-a55c-15f1c764fe88",
   "metadata": {},
   "outputs": [
    {
     "data": {
      "text/plain": [
       "array([1, 3, 5, 7, 9])"
      ]
     },
     "execution_count": 7,
     "metadata": {},
     "output_type": "execute_result"
    }
   ],
   "source": [
    "# 取出a的下标为奇数的元素\n",
    "a[1::2]"
   ]
  },
  {
   "cell_type": "code",
   "execution_count": 8,
   "id": "33e32328-e1a0-4df3-a854-d8be74fcea00",
   "metadata": {},
   "outputs": [
    {
     "data": {
      "text/plain": [
       "array([9, 7, 5])"
      ]
     },
     "execution_count": 8,
     "metadata": {},
     "output_type": "execute_result"
    }
   ],
   "source": [
    "# 有时候想要逆序取出数组最后几个元素，可以采用步长为负数的方式，例如逆序每个一个元素取出a中的3个元素\n",
    "a[:-6:-2]"
   ]
  },
  {
   "cell_type": "code",
   "execution_count": 9,
   "id": "1df1a9d2-ffb5-42b6-ab02-71c7ee799955",
   "metadata": {},
   "outputs": [
    {
     "data": {
      "text/plain": [
       "array([[ 0,  1,  2,  3],\n",
       "       [ 4,  5,  6,  7],\n",
       "       [ 8,  9, 10, 11]])"
      ]
     },
     "execution_count": 9,
     "metadata": {},
     "output_type": "execute_result"
    }
   ],
   "source": [
    "a = np.array([[0, 1, 2, 3], [4, 5, 6, 7], [8, 9, 10, 11]])\n",
    "a"
   ]
  },
  {
   "cell_type": "code",
   "execution_count": 10,
   "id": "86936ca0-b756-46e1-b076-b9c78d6f270b",
   "metadata": {},
   "outputs": [
    {
     "data": {
      "text/plain": [
       "array([[0, 1, 2],\n",
       "       [4, 5, 6]])"
      ]
     },
     "execution_count": 10,
     "metadata": {},
     "output_type": "execute_result"
    }
   ],
   "source": [
    "# 取出数组a的前2行，前3列\n",
    "a[:2, :3]"
   ]
  },
  {
   "cell_type": "code",
   "execution_count": 11,
   "id": "33a40e08-b78a-47e4-8e0b-ad7b3ef9149e",
   "metadata": {},
   "outputs": [
    {
     "data": {
      "text/plain": [
       "array([[0, 1, 2, 3],\n",
       "       [4, 5, 6, 7]])"
      ]
     },
     "execution_count": 11,
     "metadata": {},
     "output_type": "execute_result"
    }
   ],
   "source": [
    "# 特别注意，这个时候使用a[:2][:3]会得到不一样的结果\n",
    "a[:2][:3]"
   ]
  },
  {
   "cell_type": "markdown",
   "id": "656a1a7f-8247-4b97-81bf-4e2bbb034885",
   "metadata": {},
   "source": [
    "a[:2][:3]的计算逻辑是先得到a的前2行a[:2]，在这结果的基础上，\n",
    "再去得到它的前3\"列\"（实际上是得到中间结果的前3行）"
   ]
  },
  {
   "cell_type": "code",
   "execution_count": 12,
   "id": "a567ec53-1ae7-4243-af91-6c9207914648",
   "metadata": {},
   "outputs": [
    {
     "data": {
      "text/plain": [
       "array([[0, 1, 2, 3],\n",
       "       [4, 5, 6, 7]])"
      ]
     },
     "execution_count": 12,
     "metadata": {},
     "output_type": "execute_result"
    }
   ],
   "source": [
    "b = a[:2] # b是a的前2行数据\n",
    "b"
   ]
  },
  {
   "cell_type": "code",
   "execution_count": 13,
   "id": "51d7b156-98af-4fc0-a794-7d2815a1804d",
   "metadata": {},
   "outputs": [
    {
     "data": {
      "text/plain": [
       "array([[0, 1, 2, 3],\n",
       "       [4, 5, 6, 7]])"
      ]
     },
     "execution_count": 13,
     "metadata": {},
     "output_type": "execute_result"
    }
   ],
   "source": [
    "b[:3] # 取出b的前3行数据，但因为b是一个2x4的数组，并没有3行，所以只能取出前2行"
   ]
  },
  {
   "cell_type": "markdown",
   "id": "115f69aa-d0a9-4b16-a839-cb6c369e2477",
   "metadata": {
    "tags": []
   },
   "source": [
    "获取数组的行和列"
   ]
  },
  {
   "cell_type": "code",
   "execution_count": 14,
   "id": "fdf2802d-ad22-46a9-8cca-d06a4f214c48",
   "metadata": {},
   "outputs": [
    {
     "data": {
      "text/plain": [
       "array([[ 0,  1,  2,  3],\n",
       "       [ 4,  5,  6,  7],\n",
       "       [ 8,  9, 10, 11]])"
      ]
     },
     "execution_count": 14,
     "metadata": {},
     "output_type": "execute_result"
    }
   ],
   "source": [
    "# 一种很常见的需求是获取数组的但行和单列\n",
    "a"
   ]
  },
  {
   "cell_type": "code",
   "execution_count": 15,
   "id": "1c6ec057-8668-4fa6-9f7b-98b6d21dd406",
   "metadata": {},
   "outputs": [
    {
     "data": {
      "text/plain": [
       "array([1, 5, 9])"
      ]
     },
     "execution_count": 15,
     "metadata": {},
     "output_type": "execute_result"
    }
   ],
   "source": [
    "a1 = a[:, 1]\n",
    "a1"
   ]
  },
  {
   "cell_type": "code",
   "execution_count": 16,
   "id": "a7fbc79b-dac8-4370-9dc5-f087e4ef795e",
   "metadata": {},
   "outputs": [
    {
     "data": {
      "text/plain": [
       "array([4, 5, 6, 7])"
      ]
     },
     "execution_count": 16,
     "metadata": {},
     "output_type": "execute_result"
    }
   ],
   "source": [
    "# 在获取行时，NumPy提供了简洁的语法表达，既可以用a[1,:]也可以用a[1]得到第一行的数据\n",
    "a[1,:]"
   ]
  },
  {
   "cell_type": "code",
   "execution_count": 17,
   "id": "39f7bb4e-edb7-4b33-ba16-459f732eb19e",
   "metadata": {},
   "outputs": [
    {
     "data": {
      "text/plain": [
       "array([4, 5, 6, 7])"
      ]
     },
     "execution_count": 17,
     "metadata": {},
     "output_type": "execute_result"
    }
   ],
   "source": [
    "a[1]"
   ]
  },
  {
   "cell_type": "code",
   "execution_count": 18,
   "id": "269ebcb5-9123-4e9a-bfaf-43fd655935ae",
   "metadata": {},
   "outputs": [
    {
     "data": {
      "text/plain": [
       "array([[ 0,  1,  2,  3],\n",
       "       [ 4,  5,  6,  7],\n",
       "       [ 8,  9, 10, 11]])"
      ]
     },
     "execution_count": 18,
     "metadata": {},
     "output_type": "execute_result"
    }
   ],
   "source": [
    "a = np.array(np.arange(12).reshape(3,4)) # reshape方法后面会讲到\n",
    "a"
   ]
  },
  {
   "cell_type": "code",
   "execution_count": 19,
   "id": "83175e4d-b29e-4222-b26e-cad71c6a0ef6",
   "metadata": {},
   "outputs": [
    {
     "data": {
      "text/plain": [
       "array([[0, 1],\n",
       "       [4, 5]])"
      ]
     },
     "execution_count": 19,
     "metadata": {},
     "output_type": "execute_result"
    }
   ],
   "source": [
    "sub_a = a[:2, :2] # sub_a为a的前两行两列\n",
    "sub_a"
   ]
  },
  {
   "cell_type": "code",
   "execution_count": 20,
   "id": "751dc2fb-d41e-4357-b60a-5e70f3bb3784",
   "metadata": {},
   "outputs": [],
   "source": [
    "sub_a[1, 1] = 100 # 修改sub_a第1行1列的元素值为100"
   ]
  },
  {
   "cell_type": "code",
   "execution_count": 21,
   "id": "c1273d0f-068b-40a1-9116-f3422b756b91",
   "metadata": {},
   "outputs": [
    {
     "data": {
      "text/plain": [
       "array([[  0,   1,   2,   3],\n",
       "       [  4, 100,   6,   7],\n",
       "       [  8,   9,  10,  11]])"
      ]
     },
     "execution_count": 21,
     "metadata": {},
     "output_type": "execute_result"
    }
   ],
   "source": [
    "a # 查看a的值，发现a[1, 1]的值也跟着变成100了"
   ]
  },
  {
   "cell_type": "code",
   "execution_count": 22,
   "id": "39604b39-8219-44aa-810d-1d7155506da2",
   "metadata": {},
   "outputs": [
    {
     "data": {
      "text/plain": [
       "array([[ 0,  1,  2,  3],\n",
       "       [ 4,  5,  6,  7],\n",
       "       [ 8,  9, 10, 11]])"
      ]
     },
     "execution_count": 22,
     "metadata": {},
     "output_type": "execute_result"
    }
   ],
   "source": [
    "a = np.array(np.arange(12).reshape(3,4))\n",
    "a"
   ]
  },
  {
   "cell_type": "code",
   "execution_count": 23,
   "id": "e0c91731-9aab-401f-96a7-f56a11ac9782",
   "metadata": {},
   "outputs": [
    {
     "data": {
      "text/plain": [
       "array([[ 0,  1,  2,  3],\n",
       "       [ 4,  5,  6,  7],\n",
       "       [ 8,  9, 10, 11]])"
      ]
     },
     "execution_count": 23,
     "metadata": {},
     "output_type": "execute_result"
    }
   ],
   "source": [
    "sub_a_copy = a.copy() # sub_a_copy是a的一个副本\n",
    "sub_a_copy"
   ]
  },
  {
   "cell_type": "code",
   "execution_count": 24,
   "id": "7acba30c-25b6-44b4-aa3f-4967f883c2d9",
   "metadata": {},
   "outputs": [
    {
     "data": {
      "text/plain": [
       "array([[  0,   1,   2,   3],\n",
       "       [  4, 100,   6,   7],\n",
       "       [  8,   9,  10,  11]])"
      ]
     },
     "execution_count": 24,
     "metadata": {},
     "output_type": "execute_result"
    }
   ],
   "source": [
    "sub_a_copy[1, 1] = 100 # 修改sub_a_copy的第1行1列的元素为100，并查看修改是否成功\n",
    "sub_a_copy"
   ]
  },
  {
   "cell_type": "code",
   "execution_count": 25,
   "id": "8220694e-3862-46fd-a8c6-a7351aa782e4",
   "metadata": {},
   "outputs": [
    {
     "data": {
      "text/plain": [
       "array([[ 0,  1,  2,  3],\n",
       "       [ 4,  5,  6,  7],\n",
       "       [ 8,  9, 10, 11]])"
      ]
     },
     "execution_count": 25,
     "metadata": {},
     "output_type": "execute_result"
    }
   ],
   "source": [
    "a # 查看a是否跟着变化，可以发现，a仍然保留原来的数据，跟sub_a_copy是独立的两份数据"
   ]
  },
  {
   "cell_type": "code",
   "execution_count": null,
   "id": "41071056-554a-44a9-9362-1f86b14b22b6",
   "metadata": {},
   "outputs": [],
   "source": []
  }
 ],
 "metadata": {
  "kernelspec": {
   "display_name": "Python 3 (ipykernel)",
   "language": "python",
   "name": "python3"
  },
  "language_info": {
   "codemirror_mode": {
    "name": "ipython",
    "version": 3
   },
   "file_extension": ".py",
   "mimetype": "text/x-python",
   "name": "python",
   "nbconvert_exporter": "python",
   "pygments_lexer": "ipython3",
   "version": "3.10.7"
  }
 },
 "nbformat": 4,
 "nbformat_minor": 5
}
