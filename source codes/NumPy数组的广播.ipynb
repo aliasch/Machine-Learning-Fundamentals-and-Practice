{
 "cells": [
  {
   "cell_type": "markdown",
   "id": "48bf0c1a-98d5-4b3b-b1f7-74ba83cd7b24",
   "metadata": {},
   "source": [
    "#### 数组广播"
   ]
  },
  {
   "cell_type": "code",
   "execution_count": 1,
   "id": "9d1a0f09-8158-4a20-a519-38d99096e3b3",
   "metadata": {},
   "outputs": [
    {
     "name": "stdout",
     "output_type": "stream",
     "text": [
      "a.shape = (3,), a + b = [4 5 6]\n"
     ]
    }
   ],
   "source": [
    "import numpy as np\n",
    "a = np.array([1, 2, 3]) # a是维数为1的向量，形状为(3,)\n",
    "b = 3 # b是一个标量，没有形状属性\n",
    "print(f\"a.shape = {a.shape}, a + b = {a + b}\") # 根据规则1，为了能与a进行计算，b扩展为维数1，形状(3,)的向量"
   ]
  },
  {
   "cell_type": "code",
   "execution_count": 2,
   "id": "23fe379d-f1b7-42a4-ac42-33156999a543",
   "metadata": {},
   "outputs": [
    {
     "name": "stdout",
     "output_type": "stream",
     "text": [
      "a.shape = (3,), a + b = [4 5 6]\n"
     ]
    }
   ],
   "source": [
    "# 相当于 a = np.array([1, 2, 3]) 和 b = np.array([3, 3, 3])两个数据的和\n",
    "a = np.array([1, 2, 3])\n",
    "b = np.array([3, 3, 3])\n",
    "print(f\"a.shape = {a.shape}, a + b = {a + b}\")"
   ]
  },
  {
   "cell_type": "code",
   "execution_count": 3,
   "id": "cb3b8c71-b468-4e8b-b37d-5b5cd051a1ce",
   "metadata": {},
   "outputs": [
    {
     "name": "stdout",
     "output_type": "stream",
     "text": [
      "a.shape = (2, 3) \n",
      " a + b = \n",
      " [[3 4 5]\n",
      " [6 7 8]]\n"
     ]
    }
   ],
   "source": [
    "a = np.arange(6).reshape(2, 3) # a是一个维数为2，形状为(2,3)的数组（矩阵）\n",
    "b = 3\n",
    "print(f\"a.shape = {a.shape} \\n a + b = \\n {a + b}\") # 根据规则1，为了能与a进行计算，b扩展为维数2，形状(2,3)的矩阵"
   ]
  },
  {
   "cell_type": "code",
   "execution_count": 4,
   "id": "2c738d26-0500-4ffe-88eb-638f735d4507",
   "metadata": {},
   "outputs": [
    {
     "name": "stdout",
     "output_type": "stream",
     "text": [
      "a.shape = (2, 3) \n",
      " a + b = \n",
      " [[3 4 5]\n",
      " [6 7 8]]\n"
     ]
    }
   ],
   "source": [
    "# 等价于下面的操作\n",
    "a = np.arange(6).reshape(2, 3) # a是一个维数为2，形状为(2,3)的数组（矩阵）\n",
    "b = np.array([[3, 3, 3,], [3, 3, 3]]) # b是一个维数为2，形状为(2, 3)的数组\n",
    "print(f\"a.shape = {a.shape} \\n a + b = \\n {a + b}\") # 根据规则1，为了能与a进行计算，b扩展为维数2，形状(2,3)的矩阵"
   ]
  },
  {
   "cell_type": "code",
   "execution_count": 5,
   "id": "2b40761f-5083-46e1-925d-931e7509a07c",
   "metadata": {},
   "outputs": [
    {
     "data": {
      "text/plain": [
       "array([[0, 2, 4],\n",
       "       [3, 5, 7]])"
      ]
     },
     "execution_count": 5,
     "metadata": {},
     "output_type": "execute_result"
    }
   ],
   "source": [
    "a = np.arange(6).reshape(2, 3) # a是一个维数为2，形状为（2,3）的数组（矩阵）\n",
    "b= np.arange(3) # b是一个维数为1，形状为(3,)的向量\n",
    "# 根据规则1，a和b的维数不同，形状先右对齐，然后b的形状左边补1，则得到(1,3),这时，两个数据的维数相同\n",
    "# 但a和b的形状不匹配，根据规则2，不匹配的维度上有一个是1，可将其扩张为另一个数组的形状，这样b的形状变为(2,3)\n",
    "# 就可以进行计算了，这就是广播\n",
    "a + b"
   ]
  },
  {
   "cell_type": "code",
   "execution_count": 6,
   "id": "380350e1-c7d2-492d-9c30-c7c273f3fa50",
   "metadata": {},
   "outputs": [
    {
     "data": {
      "text/plain": [
       "array([[0, 2, 4],\n",
       "       [3, 5, 7]])"
      ]
     },
     "execution_count": 6,
     "metadata": {},
     "output_type": "execute_result"
    }
   ],
   "source": [
    "# 等价于\n",
    "a = np.arange(6).reshape(2, 3) # a是一个维数为2，形状为（2,3）的数组（矩阵）\n",
    "b= np.array([[0, 1, 2,], [0, 1, 2]]) # b是一个维数为3，形状为(2, 3)的向量\n",
    "a + b"
   ]
  },
  {
   "cell_type": "code",
   "execution_count": 7,
   "id": "87d97e24-9952-4669-83d8-9ecb1e0a28c3",
   "metadata": {},
   "outputs": [
    {
     "name": "stdout",
     "output_type": "stream",
     "text": [
      "(a = [[[0]\n",
      "  [1]\n",
      "  [2]]\n",
      "\n",
      " [[3]\n",
      "  [4]\n",
      "  [5]]], b = [0 1 2]\n"
     ]
    }
   ],
   "source": [
    "# 准备测试数据，a是一个维数为3（可用a.ndim查看维数），形状为(2,3,1)的数组（张量）\n",
    "a = np.arange(6).reshape(2, 3, 1)\n",
    "b = np.arange(3) # b是一个维数为1，形状为(3,)的数组\n",
    "print(f\"(a = {a}, b = {b}\")"
   ]
  },
  {
   "cell_type": "code",
   "execution_count": 8,
   "id": "f18a0e3d-ef06-4f91-9683-5a1caac96f18",
   "metadata": {},
   "outputs": [
    {
     "name": "stdout",
     "output_type": "stream",
     "text": [
      "c = [[[0 1 2]\n",
      "  [1 2 3]\n",
      "  [2 3 4]]\n",
      "\n",
      " [[3 4 5]\n",
      "  [4 5 6]\n",
      "  [5 6 7]]], c.shape = (2, 3, 3)\n"
     ]
    }
   ],
   "source": [
    "# a和b的形状分别是(2, 3, 1)和(3,),维数不一致，根据规则1，首先形状右对齐，然后维数小的形状在左边补1\n",
    "# 得到b'的形状为(1, 1, 3)，这是a和b的维数都是3根据规则2，对应维度不匹配的形状中，都有一个是1\n",
    "# 将之扩展到另一个数组的形状，所以a的第3个维度张展至3，b的第1，第2个维度分别扩展值2和3，最终两个数组都是(2, 3, 3)的形状\n",
    "c = a + b\n",
    "print(f\"c = {c}, c.shape = {c.shape}\")"
   ]
  },
  {
   "cell_type": "code",
   "execution_count": 9,
   "id": "f2f6ee1e-b531-44da-af43-0d7133c9d133",
   "metadata": {},
   "outputs": [
    {
     "ename": "ValueError",
     "evalue": "operands could not be broadcast together with shapes (2,3) (2,) ",
     "output_type": "error",
     "traceback": [
      "\u001B[1;31m---------------------------------------------------------------------------\u001B[0m",
      "\u001B[1;31mValueError\u001B[0m                                Traceback (most recent call last)",
      "Input \u001B[1;32mIn [9]\u001B[0m, in \u001B[0;36m<cell line: 5>\u001B[1;34m()\u001B[0m\n\u001B[0;32m      3\u001B[0m a \u001B[38;5;241m=\u001B[39m np\u001B[38;5;241m.\u001B[39marange(\u001B[38;5;241m6\u001B[39m)\u001B[38;5;241m.\u001B[39mreshape(\u001B[38;5;241m2\u001B[39m, \u001B[38;5;241m3\u001B[39m)\n\u001B[0;32m      4\u001B[0m b \u001B[38;5;241m=\u001B[39m np\u001B[38;5;241m.\u001B[39marange(\u001B[38;5;241m2\u001B[39m)\n\u001B[1;32m----> 5\u001B[0m \u001B[43ma\u001B[49m\u001B[43m \u001B[49m\u001B[38;5;241;43m+\u001B[39;49m\u001B[43m \u001B[49m\u001B[43mb\u001B[49m\n",
      "\u001B[1;31mValueError\u001B[0m: operands could not be broadcast together with shapes (2,3) (2,) "
     ]
    }
   ],
   "source": [
    "# a的形状是(2, 3)，b的形状是(2,)，由规则1，先将b扩展至(1, 2)\n",
    "# 但这是a和b的最右边的形状不匹配，且没有一个是1，根据规则2，无法广播，从而产生异常\n",
    "a = np.arange(6).reshape(2, 3)\n",
    "b = np.arange(2)\n",
    "a + b"
   ]
  },
  {
   "cell_type": "code",
   "execution_count": null,
   "id": "c9ddd091-a350-40ba-99f5-15120a24c7dd",
   "metadata": {},
   "outputs": [],
   "source": []
  }
 ],
 "metadata": {
  "kernelspec": {
   "display_name": "Python 3 (ipykernel)",
   "language": "python",
   "name": "python3"
  },
  "language_info": {
   "codemirror_mode": {
    "name": "ipython",
    "version": 3
   },
   "file_extension": ".py",
   "mimetype": "text/x-python",
   "name": "python",
   "nbconvert_exporter": "python",
   "pygments_lexer": "ipython3",
   "version": "3.10.7"
  }
 },
 "nbformat": 4,
 "nbformat_minor": 5
}
