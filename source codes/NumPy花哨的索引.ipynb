{
 "cells": [
  {
   "cell_type": "markdown",
   "id": "e1b28aa2-4aae-4ad0-acff-3caa010bd425",
   "metadata": {},
   "source": [
    "#### 花哨的索引"
   ]
  },
  {
   "cell_type": "code",
   "execution_count": 1,
   "id": "d2faa23f-9898-4ed6-9890-640d8f73c97f",
   "metadata": {},
   "outputs": [
    {
     "data": {
      "text/plain": [
       "array([38, 13, 73, 10, 76,  6, 80, 65, 17,  2, 77, 72,  7, 26, 51, 21, 19,\n",
       "       85, 12, 29])"
      ]
     },
     "execution_count": 1,
     "metadata": {},
     "output_type": "execute_result"
    }
   ],
   "source": [
    "# 花哨的索引传递一个索引（下标）数组，来一次性获得多个数组元素\n",
    "import numpy as np\n",
    "np.random.seed(1)\n",
    "a = np.random.randint(1, 100, 20)\n",
    "a"
   ]
  },
  {
   "cell_type": "code",
   "execution_count": 2,
   "id": "a7890a1a-61e1-4936-ac1c-7389bed5f571",
   "metadata": {},
   "outputs": [
    {
     "data": {
      "text/plain": [
       "[38, 6, 77, 21]"
      ]
     },
     "execution_count": 2,
     "metadata": {},
     "output_type": "execute_result"
    }
   ],
   "source": [
    "# 若想获得索引0,5,10,15的元素，可以通过下面方式得到\n",
    "[a[0], a[5], a[10], a[15]]"
   ]
  },
  {
   "cell_type": "code",
   "execution_count": 3,
   "id": "225f4a25-3d10-4eaf-8530-8909ab0ac788",
   "metadata": {},
   "outputs": [
    {
     "data": {
      "text/plain": [
       "array([38,  6, 77, 21])"
      ]
     },
     "execution_count": 3,
     "metadata": {},
     "output_type": "execute_result"
    }
   ],
   "source": [
    "# 但更好的方法是用花哨的索引\n",
    "ind1 = [0, 5, 10, 15]\n",
    "a[ind1]"
   ]
  },
  {
   "cell_type": "code",
   "execution_count": 4,
   "id": "302de508-5a03-4dd0-8556-4c5497bbf91a",
   "metadata": {},
   "outputs": [
    {
     "data": {
      "text/plain": [
       "array([[38,  6],\n",
       "       [77, 21]])"
      ]
     },
     "execution_count": 4,
     "metadata": {},
     "output_type": "execute_result"
    }
   ],
   "source": [
    "# 一个重要的特点，利用花哨索引，结果的形状跟索引一致，这在一些场景下，非常游泳\n",
    "ind2 = np.array([[0, 5], [10, 15]])\n",
    "a[ind2]"
   ]
  },
  {
   "cell_type": "code",
   "execution_count": 5,
   "id": "a2b17e5a-23e0-4da9-9db1-382c4c1b9772",
   "metadata": {},
   "outputs": [
    {
     "data": {
      "text/plain": [
       "array([[ 0,  1,  2,  3],\n",
       "       [ 4,  5,  6,  7],\n",
       "       [ 8,  9, 10, 11]])"
      ]
     },
     "execution_count": 5,
     "metadata": {},
     "output_type": "execute_result"
    }
   ],
   "source": [
    "# 花哨的索引也可以用于多维数组，这是第一个索引指的是行，第二个索引指的是列\n",
    "a = np.arange(12).reshape(3, 4)\n",
    "a"
   ]
  },
  {
   "cell_type": "code",
   "execution_count": 6,
   "id": "21eede09-ed85-432d-877a-3cf1e723cf68",
   "metadata": {},
   "outputs": [
    {
     "data": {
      "text/plain": [
       "array([ 2,  5, 11])"
      ]
     },
     "execution_count": 6,
     "metadata": {},
     "output_type": "execute_result"
    }
   ],
   "source": [
    "row = np.array([0, 1, 2]) # 行索引（下标）\n",
    "col = np.array([2, 1, 3]) # 列索引（下标）\n",
    "a[row, col] # 得到的是a[0, 2], a[1, 1], a[2, 3]构成的数组"
   ]
  },
  {
   "cell_type": "code",
   "execution_count": 7,
   "id": "d37afa57-72d3-43d0-84b7-cf489946da66",
   "metadata": {},
   "outputs": [
    {
     "data": {
      "text/plain": [
       "(array([[0],\n",
       "        [1],\n",
       "        [2]]),\n",
       " array([2, 1, 3]))"
      ]
     },
     "execution_count": 7,
     "metadata": {},
     "output_type": "execute_result"
    }
   ],
   "source": [
    "# 花哨索引的配对规则满足前面介绍过的广播规则\n",
    "ind = row[:, np.newaxis], col\n",
    "ind"
   ]
  },
  {
   "cell_type": "code",
   "execution_count": 8,
   "id": "05e714b5-8c09-43d7-8da1-c1d901f0866a",
   "metadata": {},
   "outputs": [
    {
     "data": {
      "text/plain": [
       "array([[ 2,  1,  3],\n",
       "       [ 6,  5,  7],\n",
       "       [10,  9, 11]])"
      ]
     },
     "execution_count": 8,
     "metadata": {},
     "output_type": "execute_result"
    }
   ],
   "source": [
    "a[ind] # ind是形状为(3, 1)和(3,)配对，经过右对齐广播之后，形成一个(3, 3)的索引数组，因此，获取值时，得到一个3x3的数组"
   ]
  },
  {
   "cell_type": "code",
   "execution_count": 9,
   "id": "571fd2e6-e399-4f83-8c4f-2f3ce0508336",
   "metadata": {},
   "outputs": [
    {
     "data": {
      "text/plain": [
       "array([10,  8,  9])"
      ]
     },
     "execution_count": 9,
     "metadata": {},
     "output_type": "execute_result"
    }
   ],
   "source": [
    "# 花哨索引和简单索引组合\n",
    "a[2, [2, 0, 1]]"
   ]
  },
  {
   "cell_type": "code",
   "execution_count": 10,
   "id": "91ac84ec-e8d3-4fd5-af0c-0bc99f6fefb7",
   "metadata": {},
   "outputs": [
    {
     "data": {
      "text/plain": [
       "array([[2, 0, 1],\n",
       "       [6, 4, 5]])"
      ]
     },
     "execution_count": 10,
     "metadata": {},
     "output_type": "execute_result"
    }
   ],
   "source": [
    "# 花哨索引与切片\n",
    "a[:2, [2, 0, 1]]"
   ]
  },
  {
   "cell_type": "code",
   "execution_count": 11,
   "id": "652c8d6b-b5b3-4288-afd2-0b7b67b865fa",
   "metadata": {},
   "outputs": [
    {
     "data": {
      "text/plain": [
       "array([[ 0,  2],\n",
       "       [ 8, 10]])"
      ]
     },
     "execution_count": 11,
     "metadata": {},
     "output_type": "execute_result"
    }
   ],
   "source": [
    "# 花哨索引和掩码组合，下面的mask等价于np.array([True, False, True, False])\n",
    "mask = np.array([1, 0, 1, 0], dtype=bool) # 这时只去下标为1对应的位置\n",
    "row = np.array([0, 2])\n",
    "a[row[:, np.newaxis], mask]"
   ]
  },
  {
   "cell_type": "code",
   "execution_count": 12,
   "id": "5a8dec47-042a-49dc-9c46-16f2a63592ce",
   "metadata": {},
   "outputs": [
    {
     "name": "stdout",
     "output_type": "stream",
     "text": [
      "[  0 100 100   3   4 100   6   7 100   9]\n"
     ]
    }
   ],
   "source": [
    "# 用花哨索引修改数组中部分元素的值\n",
    "a = np.arange(10)\n",
    "ind = np.array([2, 1, 5, 8])\n",
    "a[ind] = 100\n",
    "print(a)"
   ]
  },
  {
   "cell_type": "code",
   "execution_count": 13,
   "id": "b1915334-7cf7-4872-8238-4d4a3ed770b1",
   "metadata": {},
   "outputs": [
    {
     "data": {
      "text/plain": [
       "array([[  0, 100,   2,   3],\n",
       "       [  4,   5,   6,   7],\n",
       "       [  8,   9,  10, 100]])"
      ]
     },
     "execution_count": 13,
     "metadata": {},
     "output_type": "execute_result"
    }
   ],
   "source": [
    "b = np.arange(12).reshape(3, 4)\n",
    "row = np.array([0, 2])\n",
    "col = np.array([1, 3])\n",
    "b[row, col] = 100\n",
    "b"
   ]
  },
  {
   "cell_type": "code",
   "execution_count": null,
   "id": "f32178e8-ed57-470c-bc66-5e5be58c3743",
   "metadata": {},
   "outputs": [],
   "source": []
  }
 ],
 "metadata": {
  "kernelspec": {
   "display_name": "Python 3 (ipykernel)",
   "language": "python",
   "name": "python3"
  },
  "language_info": {
   "codemirror_mode": {
    "name": "ipython",
    "version": 3
   },
   "file_extension": ".py",
   "mimetype": "text/x-python",
   "name": "python",
   "nbconvert_exporter": "python",
   "pygments_lexer": "ipython3",
   "version": "3.10.7"
  }
 },
 "nbformat": 4,
 "nbformat_minor": 5
}
