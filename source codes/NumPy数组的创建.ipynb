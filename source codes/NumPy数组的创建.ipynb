{
 "cells": [
  {
   "cell_type": "code",
   "execution_count": 1,
   "id": "8ade4c46-771e-41be-85c6-7e39518b6002",
   "metadata": {},
   "outputs": [
    {
     "data": {
      "text/plain": [
       "'E:\\\\workspace\\\\mlbook'"
      ]
     },
     "execution_count": 1,
     "metadata": {},
     "output_type": "execute_result"
    }
   ],
   "source": [
    "pwd"
   ]
  },
  {
   "cell_type": "markdown",
   "id": "c350dadc-4564-4e0f-8dd7-12149a76b283",
   "metadata": {},
   "source": [
    "用np.array从Python列表创建数组"
   ]
  },
  {
   "cell_type": "code",
   "execution_count": 2,
   "id": "99d05974-bddb-4839-9bec-35884e9fe354",
   "metadata": {},
   "outputs": [],
   "source": [
    "import numpy as np  #导入numpy"
   ]
  },
  {
   "cell_type": "code",
   "execution_count": 3,
   "id": "2ef4ec33-2e1d-4cd7-9076-ba56f4d546f5",
   "metadata": {},
   "outputs": [
    {
     "data": {
      "text/plain": [
       "array([1, 2, 3, 4, 5])"
      ]
     },
     "execution_count": 3,
     "metadata": {},
     "output_type": "execute_result"
    }
   ],
   "source": [
    "# 创建整数数组\n",
    "np.array([1, 2, 3, 4, 5])"
   ]
  },
  {
   "cell_type": "code",
   "execution_count": 4,
   "id": "08190b7e-3344-4534-af2c-669d0534800a",
   "metadata": {},
   "outputs": [
    {
     "data": {
      "text/plain": [
       "array([[1, 2, 3],\n",
       "       [4, 5, 6],\n",
       "       [7, 8, 9]])"
      ]
     },
     "execution_count": 4,
     "metadata": {},
     "output_type": "execute_result"
    }
   ],
   "source": [
    "# 创建多维数组\n",
    "np.array([[1, 2, 3], [4, 5, 6], [7, 8, 9]])"
   ]
  },
  {
   "cell_type": "code",
   "execution_count": 5,
   "id": "61b391ea-7132-4685-af59-11916bb42290",
   "metadata": {},
   "outputs": [
    {
     "data": {
      "text/plain": [
       "array([1., 2., 3., 4.], dtype=float32)"
      ]
     },
     "execution_count": 5,
     "metadata": {},
     "output_type": "execute_result"
    }
   ],
   "source": [
    "# Numpy要求数组的元素类型必须是相同的，如果不匹配，Numpy会自动向上转型（如果可行），\n",
    "# 如果希望明确设置数组元素的类型，可使用dtype关键字指定\n",
    "np.array([1, 2, 3, 4], dtype='float32')"
   ]
  },
  {
   "cell_type": "code",
   "execution_count": 6,
   "id": "1b35ab1c-afeb-42fe-9dd9-39d8c52f7f1f",
   "metadata": {},
   "outputs": [
    {
     "data": {
      "text/plain": [
       "array([0., 0., 0., 0., 0.])"
      ]
     },
     "execution_count": 6,
     "metadata": {},
     "output_type": "execute_result"
    }
   ],
   "source": [
    "# 创建一个长度为5的全0数组\n",
    "np.zeros(5)"
   ]
  },
  {
   "cell_type": "code",
   "execution_count": 7,
   "id": "21e2a7b1-1fe2-4ec1-9a55-bab72dd58c3d",
   "metadata": {},
   "outputs": [
    {
     "data": {
      "text/plain": [
       "array([[1., 1., 1., 1.],\n",
       "       [1., 1., 1., 1.]])"
      ]
     },
     "execution_count": 7,
     "metadata": {},
     "output_type": "execute_result"
    }
   ],
   "source": [
    "# 创建一个全1的2x4的浮点数组\n",
    "np.ones([2, 4], dtype=float)"
   ]
  },
  {
   "cell_type": "code",
   "execution_count": 8,
   "id": "35e9f8ec-03d8-4b75-bfad-f8ea809cfeb8",
   "metadata": {},
   "outputs": [
    {
     "data": {
      "text/plain": [
       "array([[3.14159265, 3.14159265, 3.14159265, 3.14159265],\n",
       "       [3.14159265, 3.14159265, 3.14159265, 3.14159265],\n",
       "       [3.14159265, 3.14159265, 3.14159265, 3.14159265]])"
      ]
     },
     "execution_count": 8,
     "metadata": {},
     "output_type": "execute_result"
    }
   ],
   "source": [
    "# 创建一个3x4的浮点型数组，数组元素均为π的近似值\n",
    "np.full([3, 4], np.pi)"
   ]
  },
  {
   "cell_type": "code",
   "execution_count": 9,
   "id": "59a17d8b-16c3-47ea-a05e-42ed08ef67db",
   "metadata": {},
   "outputs": [
    {
     "data": {
      "text/plain": [
       "array([ 0,  2,  4,  6,  8, 10, 12, 14, 16, 18])"
      ]
     },
     "execution_count": 9,
     "metadata": {},
     "output_type": "execute_result"
    }
   ],
   "source": [
    "# 创建一个数组值是线性序列的数组，从0开始，20结束，步长为2\n",
    "np.arange(0, 20, 2)"
   ]
  },
  {
   "cell_type": "code",
   "execution_count": 10,
   "id": "d3078c58-f1e3-4ec9-8117-af0e7587d706",
   "metadata": {},
   "outputs": [
    {
     "data": {
      "text/plain": [
       "array([0. , 0.1, 0.2, 0.3, 0.4, 0.5, 0.6, 0.7, 0.8, 0.9, 1. ])"
      ]
     },
     "execution_count": 10,
     "metadata": {},
     "output_type": "execute_result"
    }
   ],
   "source": [
    "# 创建一个包含11个元素的数组，起取值在[0，1]之间等间隔分布\n",
    "np.linspace(0, 1, 11)"
   ]
  },
  {
   "cell_type": "code",
   "execution_count": 11,
   "id": "b194537b-32ea-477f-b7f3-51ff8ab31880",
   "metadata": {},
   "outputs": [
    {
     "data": {
      "text/plain": [
       "array([[4.17022005e-01, 7.20324493e-01, 1.14374817e-04],\n",
       "       [3.02332573e-01, 1.46755891e-01, 9.23385948e-02],\n",
       "       [1.86260211e-01, 3.45560727e-01, 3.96767474e-01]])"
      ]
     },
     "execution_count": 11,
     "metadata": {},
     "output_type": "execute_result"
    }
   ],
   "source": [
    "# 创建一个3x3的，服从0,1均匀分布的数组，\n",
    "# 为了方便读者重现，这里设定随机种子，\n",
    "# 读者只要使用相同的随机种子就可以得到相同的结果\n",
    "np.random.seed(1)\n",
    "np.random.random((3, 3))"
   ]
  },
  {
   "cell_type": "code",
   "execution_count": 3,
   "id": "c1f64013-754e-49f7-a852-42e5a2440919",
   "metadata": {},
   "outputs": [
    {
     "data": {
      "text/plain": [
       "array([[4.17022005e+00, 7.20324493e+00, 1.14374817e-03],\n",
       "       [3.02332573e+00, 1.46755891e+00, 9.23385948e-01],\n",
       "       [1.86260211e+00, 3.45560727e+00, 3.96767474e+00]])"
      ]
     },
     "execution_count": 3,
     "metadata": {},
     "output_type": "execute_result"
    }
   ],
   "source": [
    "# 创建一个3x3的数组，其元素值服从0到10之间的均匀分布，\n",
    "np.random.seed(1)\n",
    "np.random.uniform(0, 10, [3, 3])"
   ]
  },
  {
   "cell_type": "code",
   "execution_count": 4,
   "id": "4d5c5dfa-a139-4207-816d-8b5edee4b128",
   "metadata": {},
   "outputs": [
    {
     "data": {
      "text/plain": [
       "array([[ 1.62434536, -0.61175641, -0.52817175],\n",
       "       [-1.07296862,  0.86540763, -2.3015387 ],\n",
       "       [ 1.74481176, -0.7612069 ,  0.3190391 ]])"
      ]
     },
     "execution_count": 4,
     "metadata": {},
     "output_type": "execute_result"
    }
   ],
   "source": [
    "# 创建一个3x3的，均值为0，方差为1的正态分布随机数组\n",
    "np.random.seed(1)\n",
    "np.random.normal(0, 1, [3, 3])"
   ]
  },
  {
   "cell_type": "code",
   "execution_count": 13,
   "id": "cb33da28-4760-4d5a-b1d5-0ce8c15a2704",
   "metadata": {},
   "outputs": [
    {
     "data": {
      "text/plain": [
       "array([[1., 0., 0.],\n",
       "       [0., 1., 0.],\n",
       "       [0., 0., 1.]])"
      ]
     },
     "execution_count": 13,
     "metadata": {},
     "output_type": "execute_result"
    }
   ],
   "source": [
    "# 创建一个3x3的单位矩阵\n",
    "np.eye(3)"
   ]
  },
  {
   "cell_type": "code",
   "execution_count": null,
   "id": "2a1d3ca1-bd89-4508-b8ff-e1e7ff4a68f0",
   "metadata": {},
   "outputs": [],
   "source": []
  }
 ],
 "metadata": {
  "kernelspec": {
   "display_name": "Python 3 (ipykernel)",
   "language": "python",
   "name": "python3"
  },
  "language_info": {
   "codemirror_mode": {
    "name": "ipython",
    "version": 3
   },
   "file_extension": ".py",
   "mimetype": "text/x-python",
   "name": "python",
   "nbconvert_exporter": "python",
   "pygments_lexer": "ipython3",
   "version": "3.10.7"
  }
 },
 "nbformat": 4,
 "nbformat_minor": 5
}
