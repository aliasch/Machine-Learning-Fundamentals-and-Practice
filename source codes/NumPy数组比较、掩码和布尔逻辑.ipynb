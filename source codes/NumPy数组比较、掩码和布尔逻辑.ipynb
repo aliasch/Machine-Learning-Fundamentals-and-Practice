{
 "cells": [
  {
   "cell_type": "markdown",
   "id": "30b500e6-0f3c-444c-aa1f-9ddff1e68d5b",
   "metadata": {},
   "source": [
    "#### 数组比较、掩码和布尔逻辑"
   ]
  },
  {
   "cell_type": "code",
   "execution_count": 1,
   "id": "e06fc4fd-7450-448d-ab1a-fee9289c9f01",
   "metadata": {},
   "outputs": [
    {
     "data": {
      "text/plain": [
       "array([ True,  True,  True, False, False, False])"
      ]
     },
     "execution_count": 1,
     "metadata": {},
     "output_type": "execute_result"
    }
   ],
   "source": [
    "# 取出数组中比3小的元素\n",
    "import numpy as np\n",
    "a = np.array([0, 1, 2, 3, 4, 5])\n",
    "a < 3 # 这时可以得到a中比3小的元素对应的下标的值为True，比3大的元素对应的下标的值为False"
   ]
  },
  {
   "cell_type": "code",
   "execution_count": 2,
   "id": "8e01a70d-a42c-460f-a329-02c4e5c1df07",
   "metadata": {},
   "outputs": [
    {
     "data": {
      "text/plain": [
       "array([0, 1, 2])"
      ]
     },
     "execution_count": 2,
     "metadata": {},
     "output_type": "execute_result"
    }
   ],
   "source": [
    "a[a<3] # 取出比3小的元素，掩码的用法"
   ]
  },
  {
   "cell_type": "code",
   "execution_count": 3,
   "id": "4459bf7c-933e-4c6e-834d-96daf369adc7",
   "metadata": {},
   "outputs": [
    {
     "data": {
      "text/plain": [
       "(array([4, 5]), array([0, 1, 2, 4, 5]), array([3, 4, 5]), array([3]))"
      ]
     },
     "execution_count": 3,
     "metadata": {},
     "output_type": "execute_result"
    }
   ],
   "source": [
    "# 同理，可以获取>3的，!=3, >=3和==3等等的元素\n",
    "a[a>3], a[a!=3], a[a>=3], a[a==3]"
   ]
  },
  {
   "cell_type": "code",
   "execution_count": 4,
   "id": "79aad759-a41d-4793-b7a3-8aba1b6fb51f",
   "metadata": {},
   "outputs": [
    {
     "name": "stdout",
     "output_type": "stream",
     "text": [
      "2 2\n"
     ]
    }
   ],
   "source": [
    "# 统计a>3的元素个数\n",
    "# 统计a>3的元素个数，也可以用np.sum()\n",
    "print(np.count_nonzero(a > 3), np.sum(a>3)) # 这时判断a >3为True的值，被解释为1"
   ]
  },
  {
   "cell_type": "code",
   "execution_count": 5,
   "id": "eb0552a1-0e42-4ff4-ad49-3044ed290f55",
   "metadata": {},
   "outputs": [
    {
     "name": "stdout",
     "output_type": "stream",
     "text": [
      "True False\n"
     ]
    }
   ],
   "source": [
    "# 判断a中是否存在>3的元素用any()，判断a中是否所有元素都>3的元素用all()\n",
    "print(np.any(a > 3), np.all(a > 3))"
   ]
  },
  {
   "cell_type": "code",
   "execution_count": 6,
   "id": "a060d06d-8b35-44e2-8804-dccd58c5d3be",
   "metadata": {},
   "outputs": [
    {
     "data": {
      "text/plain": [
       "array([2, 3])"
      ]
     },
     "execution_count": 6,
     "metadata": {},
     "output_type": "execute_result"
    }
   ],
   "source": [
    "# 布尔运算，按位进行逻辑运算，按位与&，按位或|，按位异或^以及按位取反~\n",
    "a = np.array([0, 1, 2, 3, 4, 5])\n",
    "# 取出>1并且<4的元素，注意不能直接写成1 < a < 4，因为这是按位计算（各个元素进行判断）\n",
    "a[(1 < a) & (a < 4)]"
   ]
  },
  {
   "cell_type": "code",
   "execution_count": 7,
   "id": "f31f563e-e1cc-4eb2-a76d-152d4efa09b3",
   "metadata": {},
   "outputs": [
    {
     "data": {
      "text/plain": [
       "(array([4, 5]), array([4, 5]))"
      ]
     },
     "execution_count": 7,
     "metadata": {},
     "output_type": "execute_result"
    }
   ],
   "source": [
    "a[a > 3], a[~(a <= 3)] #等价"
   ]
  },
  {
   "cell_type": "code",
   "execution_count": 9,
   "id": "3eb30861-b3ab-4475-bb4b-2d3de8a4110a",
   "metadata": {},
   "outputs": [
    {
     "data": {
      "text/plain": [
       "array([0, 3, 6, 5], dtype=int32)"
      ]
     },
     "execution_count": 9,
     "metadata": {},
     "output_type": "execute_result"
    }
   ],
   "source": [
    "a = np.array([0, 2, 4, 6]) # 按位异或，例如6的二进制为110,3的二进制为011，异或得到101即5\n",
    "b = np.array([0, 1, 2, 3])\n",
    "a ^ b"
   ]
  },
  {
   "cell_type": "code",
   "execution_count": null,
   "id": "dc59a4ae-bb90-4b81-957c-cc87849992bd",
   "metadata": {},
   "outputs": [],
   "source": []
  }
 ],
 "metadata": {
  "kernelspec": {
   "display_name": "Python 3 (ipykernel)",
   "language": "python",
   "name": "python3"
  },
  "language_info": {
   "codemirror_mode": {
    "name": "ipython",
    "version": 3
   },
   "file_extension": ".py",
   "mimetype": "text/x-python",
   "name": "python",
   "nbconvert_exporter": "python",
   "pygments_lexer": "ipython3",
   "version": "3.10.7"
  }
 },
 "nbformat": 4,
 "nbformat_minor": 5
}
